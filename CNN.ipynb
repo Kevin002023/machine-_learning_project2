{
 "cells": [
  {
   "cell_type": "markdown",
   "metadata": {},
   "source": [
    "# Produce a Convolutional Neural Network that can distinuish between different Seal Vocalisations\n",
    "\n",
    "We have produced 480 npz files of spectrogram data for different seal data. "
   ]
  },
  {
   "cell_type": "code",
   "execution_count": 15,
   "metadata": {},
   "outputs": [],
   "source": [
    "import numpy as np\n",
    "import os\n",
    "import pandas as pd\n",
    "import matplotlib.pyplot as plt\n",
    "from sklearn.model_selection import train_test_split\n",
    "from sklearn.preprocessing import LabelEncoder\n",
    "from tensorflow.keras.utils import to_categorical\n",
    "from tensorflow.keras.models import Sequential\n",
    "from tensorflow.keras.layers import Conv2D, MaxPooling2D, Flatten, Dense, Dropout, BatchNormalization\n",
    "from tensorflow.keras.optimizers import Adam\n",
    "from collections import Counter\n"
   ]
  },
  {
   "cell_type": "code",
   "execution_count": 8,
   "metadata": {},
   "outputs": [
    {
     "data": {
      "text/plain": [
       "(480,)"
      ]
     },
     "execution_count": 8,
     "metadata": {},
     "output_type": "execute_result"
    }
   ],
   "source": [
    "# function to load the npz files\n",
    "\n",
    "folder_path = 'data/processed/NPZ_files'\n",
    "files = [os.path.join(folder_path, f) for f in os.listdir(folder_path) if f.endswith('.npz')]\n",
    "\n",
    "# create x and y arrays. x being the spectorgram and y being the call annotation\n",
    "x = []\n",
    "y = []\n",
    "\n",
    "for file in files:\n",
    "    npz_data = np.load(file)\n",
    "    spectrogram = npz_data['spectrogram']\n",
    "    call = npz_data['annotation']\n",
    "    \n",
    "    x.append(spectrogram)\n",
    "    y.append(call)\n",
    "\n",
    "x = np.array(x)\n",
    "y = np.array(y)\n",
    "\n",
    "x.shape\n",
    "#y.shape"
   ]
  },
  {
   "cell_type": "markdown",
   "metadata": {},
   "source": [
    "The shape of our data is (480, 1025, 56). This represents dimensions for number of samples, frequency bins and time steps. \n",
    "\n",
    "480 - the number of files we have\n",
    "1025 - The frequency axis has been split into 1025 different bins. This is decided based on the nfft you choose. We used 2048. The formula[[1]](https://dsp.stackexchange.com/questions/26927/what-is-a-frequency-bin) used is nfft-2+1.\n",
    "561 - the x axis has been split into frames and is related to the nover used when generating the spectrograms[[2]](https://stackoverflow.com/questions/64136637/time-steps-difference-in-spectrogram). \n",
    "\n",
    "Our data is only 3D, it doesnt have a channel dimension. CNN's require a 4D shape[[3]](https://stackoverflow.com/questions/60157742/convolutional-neural-network-cnn-input-shape). We need to add a channel dimension to our data. As the training will be done on grayscale spectrograms, we will add a channel dimension of 1."
   ]
  },
  {
   "cell_type": "code",
   "execution_count": 9,
   "metadata": {},
   "outputs": [
    {
     "data": {
      "text/plain": [
       "(480, 1025, 561, 1)"
      ]
     },
     "execution_count": 9,
     "metadata": {},
     "output_type": "execute_result"
    }
   ],
   "source": [
    "# Add a channel dimension to the data\n",
    "x = np.expand_dims(x, axis=-1)  # Shape becomes (480, 1025, 561, 1)\n",
    "x.shape"
   ]
  },
  {
   "cell_type": "markdown",
   "metadata": {},
   "source": [
    "A greyscale will have an array between 0 and 1. We need to check what ours are."
   ]
  },
  {
   "cell_type": "code",
   "execution_count": 10,
   "metadata": {},
   "outputs": [
    {
     "name": "stdout",
     "output_type": "stream",
     "text": [
      "Minimum value: 7.733122287834104e-17\n",
      "Maximum value: 49.907100677490234\n"
     ]
    }
   ],
   "source": [
    "min_value = x.min()\n",
    "max_value = x.max()\n",
    "\n",
    "print(f\"Minimum value: {min_value}\")\n",
    "print(f\"Maximum value: {max_value}\")"
   ]
  },
  {
   "cell_type": "markdown",
   "metadata": {},
   "source": [
    "As our images are not greyscale at the moment we need to carry out some normalisation before using the Neural Network."
   ]
  },
  {
   "cell_type": "code",
   "execution_count": 11,
   "metadata": {},
   "outputs": [
    {
     "name": "stdout",
     "output_type": "stream",
     "text": [
      "Minimum value: 1.549503364563041e-18\n",
      "Maximum value: 1.0\n"
     ]
    }
   ],
   "source": [
    "# Normalise to [0, 1]\n",
    "\n",
    "x = x / max_value\n",
    "\n",
    "new_min_value = x.min()\n",
    "new_max_value = x.max()\n",
    "print(f\"Minimum value: {new_min_value}\")\n",
    "print(f\"Maximum value: {new_max_value}\")"
   ]
  },
  {
   "cell_type": "markdown",
   "metadata": {},
   "source": [
    "Now our data is in the range [0,1]"
   ]
  },
  {
   "cell_type": "code",
   "execution_count": 16,
   "metadata": {},
   "outputs": [
    {
     "data": {
      "text/plain": [
       "5"
      ]
     },
     "execution_count": 16,
     "metadata": {},
     "output_type": "execute_result"
    }
   ],
   "source": [
    "# Checking how many calls are present in our dataset \n",
    "\n",
    "number_of_calls = np.unique(y).size\n",
    "number_of_calls"
   ]
  },
  {
   "cell_type": "markdown",
   "metadata": {},
   "source": [
    "We have 5 different calls in our dataset of 480. If its unabalanced it will be harder to train the model. "
   ]
  },
  {
   "cell_type": "code",
   "execution_count": 17,
   "metadata": {},
   "outputs": [
    {
     "data": {
      "text/plain": [
       "Counter({'Rupe A': 342,\n",
       "         'Rupe B': 121,\n",
       "         'Rupe C': 8,\n",
       "         'Guttural rupe': 7,\n",
       "         'Growl B': 2})"
      ]
     },
     "execution_count": 17,
     "metadata": {},
     "output_type": "execute_result"
    }
   ],
   "source": [
    "Counter(y)"
   ]
  },
  {
   "cell_type": "markdown",
   "metadata": {},
   "source": [
    "There are 342 Rupe A calls, 121 Rupe B but only 8, 7 and 2 fro Rupe C, Gutturral Rupe and Growl. \n",
    "We will disregard these as there are not enough samples to train the model efficiently and instead focus on A and B.\n",
    "As x no longer has the class we need to filter them out based on their index in the dataframe[[5]](https://stackoverflow.com/questions/72047933/accessing-a-value-by-index-in-enumerate-for-loop)\n"
   ]
  },
  {
   "cell_type": "code",
   "execution_count": 19,
   "metadata": {},
   "outputs": [],
   "source": [
    "# Filter the dataset to only include Rupe A and Rupe B\n",
    "selected_calls = ['Rupe A', 'Rupe B']\n",
    "\n",
    "# Filter the dataset\n",
    "indices = [i for i, label in enumerate(y) if label in selected_calls]\n",
    "x_filtered = x[indices]\n",
    "y_filtered = y[indices]"
   ]
  },
  {
   "cell_type": "code",
   "execution_count": 25,
   "metadata": {},
   "outputs": [
    {
     "data": {
      "text/plain": [
       "((463, 1025, 561, 1), (463,), array(['Rupe A', 'Rupe B'], dtype='<U13'))"
      ]
     },
     "execution_count": 25,
     "metadata": {},
     "output_type": "execute_result"
    }
   ],
   "source": [
    "# checking its what we expect\n",
    "x_filtered.shape, y_filtered.shape, np.unique(y_filtered)"
   ]
  },
  {
   "cell_type": "markdown",
   "metadata": {},
   "source": [
    "Now we have 463 samples between just 2 classes.\n",
    "\n",
    "Next we will encode our labels and split our data into test and train groups. \n",
    "\n",
    "label_encoder and encoded_labels convert our calls (Rupe A/B) into integers (0/1) as neural networks require input and output variable to be numbers [[6]](https://machinelearningmastery.com/how-to-prepare-categorical-data-for-deep-learning-in-python/)"
   ]
  },
  {
   "cell_type": "code",
   "execution_count": 27,
   "metadata": {},
   "outputs": [],
   "source": [
    "\n",
    "# Encode labels\n",
    "label_encoder = LabelEncoder()\n",
    "encoded_labels = label_encoder.fit_transform(y_filtered)\n",
    "categorical_labels = to_categorical(encoded_labels)\n",
    "\n",
    "\n",
    "X_train, X_test, y_train, y_test = train_test_split(x_filtered, categorical_labels, test_size=0.2, random_state=42)\n"
   ]
  },
  {
   "cell_type": "code",
   "execution_count": null,
   "metadata": {},
   "outputs": [],
   "source": [
    "# Assuming data shape: (samples, height, width, channels)\n",
    "input_shape = X_train.shape[1:]\n",
    "\n",
    "model = Sequential([\n",
    "    Conv2D(32, (3, 3), activation='relu', input_shape=input_shape),\n",
    "    BatchNormalization(),\n",
    "    MaxPooling2D((2, 2)),\n",
    "    Dropout(0.25),\n",
    "    \n",
    "    Conv2D(64, (3, 3), activation='relu'),\n",
    "    BatchNormalization(),\n",
    "    MaxPooling2D((2, 2)),\n",
    "    Dropout(0.25),\n",
    "    \n",
    "    Flatten(),\n",
    "    Dense(128, activation='relu'),\n",
    "    Dropout(0.5),\n",
    "    Dense(categorical_labels.shape[1], activation='softmax')  # Output layer\n",
    "])\n",
    "\n",
    "model.compile(optimizer=Adam(learning_rate=0.001),\n",
    "              loss='categorical_crossentropy',\n",
    "              metrics=['accuracy'])"
   ]
  },
  {
   "cell_type": "code",
   "execution_count": null,
   "metadata": {},
   "outputs": [],
   "source": [
    "history = model.fit(X_train, y_train,\n",
    "                    validation_split=0.2,\n",
    "                    epochs=20,\n",
    "                    batch_size=32,\n",
    "                    verbose=1)"
   ]
  },
  {
   "cell_type": "markdown",
   "metadata": {},
   "source": [
    "https://stackoverflow.com/questions/60157742/convolutional-neural-network-cnn-input-shape"
   ]
  }
 ],
 "metadata": {
  "kernelspec": {
   "display_name": "base",
   "language": "python",
   "name": "python3"
  },
  "language_info": {
   "codemirror_mode": {
    "name": "ipython",
    "version": 3
   },
   "file_extension": ".py",
   "mimetype": "text/x-python",
   "name": "python",
   "nbconvert_exporter": "python",
   "pygments_lexer": "ipython3",
   "version": "3.11.5"
  }
 },
 "nbformat": 4,
 "nbformat_minor": 2
}
