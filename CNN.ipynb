{
 "cells": [
  {
   "cell_type": "markdown",
   "metadata": {},
   "source": [
    "# Produce a Convolutional Neural Network that can distinuish between different Seal Vocalisations\n",
    "\n",
    "We have produced 480 npz files of spectrogram data for different seal data. "
   ]
  },
  {
   "cell_type": "code",
   "execution_count": 16,
   "metadata": {},
   "outputs": [],
   "source": [
    "import numpy as np\n",
    "import os\n",
    "from sklearn.model_selection import train_test_split\n",
    "from sklearn.preprocessing import LabelEncoder\n",
    "from tensorflow.keras.utils import to_categorical\n",
    "from tensorflow.keras.models import Sequential\n",
    "from tensorflow.keras.layers import Conv2D, MaxPooling2D, Flatten, Dense, Dropout, BatchNormalization\n",
    "from tensorflow.keras.optimizers import Adam"
   ]
  },
  {
   "cell_type": "code",
   "execution_count": 27,
   "metadata": {},
   "outputs": [
    {
     "data": {
      "text/plain": [
       "array(['Rupe A', 'Rupe A', 'Rupe B', 'Rupe B', 'Rupe C', 'Rupe B',\n",
       "       'Rupe B', 'Rupe B', 'Rupe A', 'Rupe A', 'Rupe A', 'Rupe A',\n",
       "       'Rupe B', 'Rupe A', 'Rupe A', 'Rupe A', 'Rupe B', 'Rupe A',\n",
       "       'Rupe B', 'Rupe B', 'Rupe A', 'Rupe A', 'Rupe A', 'Rupe A',\n",
       "       'Rupe A', 'Rupe A', 'Rupe C', 'Rupe A', 'Rupe A', 'Rupe B',\n",
       "       'Rupe A', 'Rupe B', 'Rupe B', 'Rupe A', 'Rupe A', 'Rupe B',\n",
       "       'Rupe B', 'Rupe B', 'Rupe B', 'Rupe A', 'Rupe A', 'Rupe A',\n",
       "       'Rupe A', 'Rupe A', 'Rupe A', 'Rupe A', 'Rupe A', 'Rupe B',\n",
       "       'Rupe B', 'Rupe A', 'Rupe B', 'Rupe A', 'Rupe A', 'Rupe A',\n",
       "       'Rupe A', 'Rupe A', 'Rupe A', 'Rupe B', 'Rupe A', 'Rupe A',\n",
       "       'Rupe B', 'Rupe A', 'Rupe A', 'Rupe B', 'Rupe B', 'Rupe B',\n",
       "       'Rupe B', 'Rupe B', 'Rupe C', 'Rupe A', 'Rupe A', 'Rupe A',\n",
       "       'Rupe A', 'Rupe A', 'Rupe A', 'Rupe B', 'Rupe C', 'Rupe A',\n",
       "       'Rupe A', 'Rupe A', 'Rupe A', 'Rupe A', 'Rupe B', 'Rupe B',\n",
       "       'Rupe B', 'Rupe B', 'Rupe B', 'Rupe B', 'Rupe B', 'Rupe B',\n",
       "       'Rupe B', 'Rupe B', 'Rupe B', 'Rupe A', 'Rupe A', 'Rupe B',\n",
       "       'Rupe A', 'Rupe A', 'Rupe A', 'Rupe A', 'Rupe B', 'Rupe B',\n",
       "       'Rupe B', 'Rupe A', 'Rupe A', 'Rupe B', 'Rupe A', 'Rupe A',\n",
       "       'Rupe A', 'Rupe B', 'Rupe A', 'Rupe A', 'Rupe A', 'Rupe A',\n",
       "       'Rupe B', 'Rupe A', 'Rupe A', 'Rupe A', 'Rupe A', 'Rupe A',\n",
       "       'Rupe B', 'Rupe B', 'Rupe B', 'Rupe B', 'Rupe B', 'Rupe B',\n",
       "       'Rupe B', 'Rupe B', 'Rupe A', 'Rupe A', 'Rupe A', 'Rupe B',\n",
       "       'Rupe B', 'Rupe A', 'Rupe A', 'Rupe A', 'Rupe B', 'Rupe A',\n",
       "       'Rupe B', 'Rupe A', 'Rupe C', 'Rupe A', 'Rupe A', 'Rupe A',\n",
       "       'Rupe B', 'Rupe A', 'Rupe A', 'Rupe A', 'Rupe A', 'Rupe A',\n",
       "       'Rupe A', 'Rupe A', 'Rupe A', 'Rupe A', 'Rupe B', 'Rupe A',\n",
       "       'Rupe B', 'Rupe B', 'Rupe B', 'Rupe B', 'Rupe B', 'Rupe A',\n",
       "       'Rupe B', 'Rupe A', 'Rupe B', 'Rupe B', 'Rupe A', 'Rupe A',\n",
       "       'Rupe A', 'Rupe A', 'Rupe A', 'Rupe A', 'Rupe A', 'Rupe A',\n",
       "       'Rupe A', 'Rupe A', 'Rupe A', 'Rupe A', 'Rupe A', 'Rupe A',\n",
       "       'Rupe A', 'Rupe A', 'Rupe A', 'Rupe A', 'Rupe B', 'Rupe A',\n",
       "       'Rupe B', 'Rupe B', 'Rupe B', 'Rupe B', 'Rupe B', 'Rupe B',\n",
       "       'Rupe B', 'Rupe B', 'Rupe A', 'Rupe B', 'Rupe B', 'Rupe C',\n",
       "       'Rupe A', 'Rupe B', 'Rupe A', 'Growl B', 'Growl B', 'Rupe A',\n",
       "       'Rupe A', 'Rupe A', 'Rupe A', 'Rupe A', 'Rupe C', 'Rupe A',\n",
       "       'Rupe A', 'Rupe B', 'Rupe B', 'Rupe B', 'Rupe B', 'Rupe A',\n",
       "       'Rupe A', 'Rupe A', 'Rupe A', 'Rupe A', 'Rupe A', 'Rupe B',\n",
       "       'Rupe A', 'Rupe A', 'Rupe A', 'Rupe A', 'Rupe A', 'Rupe A',\n",
       "       'Rupe A', 'Rupe A', 'Rupe A', 'Rupe B', 'Rupe B', 'Rupe B',\n",
       "       'Rupe B', 'Rupe B', 'Rupe B', 'Rupe B', 'Rupe A', 'Rupe A',\n",
       "       'Rupe A', 'Rupe A', 'Rupe A', 'Rupe A', 'Rupe A', 'Rupe A',\n",
       "       'Rupe A', 'Rupe A', 'Rupe A', 'Rupe A', 'Rupe A', 'Rupe A',\n",
       "       'Rupe A', 'Rupe B', 'Rupe B', 'Rupe A', 'Rupe A', 'Rupe A',\n",
       "       'Rupe A', 'Rupe A', 'Rupe A', 'Rupe B', 'Rupe A', 'Rupe A',\n",
       "       'Rupe A', 'Rupe B', 'Rupe A', 'Rupe A', 'Rupe A', 'Rupe B',\n",
       "       'Rupe B', 'Rupe B', 'Rupe A', 'Rupe A', 'Rupe A', 'Rupe B',\n",
       "       'Rupe A', 'Rupe A', 'Rupe A', 'Rupe A', 'Rupe A', 'Rupe A',\n",
       "       'Rupe A', 'Rupe A', 'Rupe A', 'Rupe A', 'Rupe C', 'Rupe A',\n",
       "       'Rupe A', 'Rupe A', 'Rupe A', 'Rupe A', 'Rupe A', 'Rupe A',\n",
       "       'Rupe A', 'Rupe A', 'Rupe B', 'Rupe B', 'Rupe A', 'Rupe B',\n",
       "       'Rupe A', 'Rupe A', 'Rupe A', 'Rupe A', 'Rupe A', 'Rupe A',\n",
       "       'Rupe A', 'Rupe A', 'Rupe A', 'Rupe A', 'Rupe A', 'Rupe A',\n",
       "       'Rupe A', 'Rupe A', 'Rupe A', 'Rupe A', 'Rupe A', 'Rupe A',\n",
       "       'Rupe A', 'Rupe A', 'Rupe A', 'Rupe B', 'Rupe B', 'Rupe A',\n",
       "       'Rupe A', 'Rupe A', 'Rupe A', 'Rupe A', 'Rupe A', 'Rupe A',\n",
       "       'Rupe A', 'Rupe A', 'Rupe A', 'Rupe A', 'Rupe B', 'Rupe B',\n",
       "       'Rupe B', 'Rupe B', 'Rupe B', 'Rupe B', 'Rupe A', 'Rupe A',\n",
       "       'Rupe B', 'Rupe B', 'Rupe B', 'Rupe A', 'Rupe A', 'Rupe A',\n",
       "       'Rupe A', 'Rupe A', 'Rupe A', 'Rupe A', 'Rupe B', 'Rupe B',\n",
       "       'Rupe B', 'Rupe B', 'Rupe A', 'Rupe A', 'Rupe A', 'Rupe A',\n",
       "       'Rupe A', 'Rupe A', 'Rupe A', 'Rupe A', 'Rupe A', 'Rupe A',\n",
       "       'Rupe B', 'Rupe A', 'Rupe B', 'Rupe A', 'Rupe A', 'Rupe A',\n",
       "       'Rupe A', 'Rupe A', 'Rupe A', 'Rupe B', 'Rupe A', 'Rupe A',\n",
       "       'Rupe A', 'Rupe A', 'Rupe A', 'Rupe A', 'Rupe B', 'Rupe A',\n",
       "       'Rupe A', 'Rupe A', 'Rupe A', 'Rupe A', 'Rupe A', 'Rupe A',\n",
       "       'Rupe A', 'Guttural rupe', 'Rupe A', 'Rupe A', 'Rupe A', 'Rupe A',\n",
       "       'Guttural rupe', 'Rupe A', 'Rupe A', 'Rupe A', 'Rupe A', 'Rupe A',\n",
       "       'Rupe A', 'Rupe A', 'Rupe A', 'Rupe A', 'Rupe A', 'Rupe A',\n",
       "       'Rupe A', 'Rupe A', 'Rupe A', 'Rupe A', 'Rupe A', 'Rupe A',\n",
       "       'Rupe A', 'Rupe A', 'Rupe A', 'Rupe A', 'Rupe A', 'Rupe A',\n",
       "       'Rupe A', 'Rupe A', 'Rupe A', 'Rupe A', 'Rupe A', 'Rupe A',\n",
       "       'Rupe A', 'Rupe A', 'Rupe A', 'Rupe A', 'Rupe A', 'Rupe A',\n",
       "       'Rupe A', 'Rupe A', 'Rupe A', 'Rupe A', 'Rupe A', 'Rupe A',\n",
       "       'Rupe A', 'Rupe A', 'Rupe A', 'Rupe A', 'Rupe A', 'Rupe A',\n",
       "       'Rupe A', 'Rupe A', 'Rupe A', 'Rupe A', 'Rupe A', 'Rupe A',\n",
       "       'Rupe A', 'Rupe A', 'Rupe A', 'Rupe A', 'Rupe A', 'Rupe A',\n",
       "       'Rupe A', 'Rupe A', 'Rupe A', 'Rupe A', 'Rupe A', 'Rupe A',\n",
       "       'Guttural rupe', 'Guttural rupe', 'Rupe A', 'Guttural rupe',\n",
       "       'Rupe A', 'Rupe A', 'Rupe A', 'Rupe A', 'Rupe A', 'Rupe A',\n",
       "       'Rupe A', 'Rupe A', 'Rupe A', 'Rupe A', 'Guttural rupe',\n",
       "       'Guttural rupe', 'Rupe A', 'Rupe A'], dtype='<U13')"
      ]
     },
     "execution_count": 27,
     "metadata": {},
     "output_type": "execute_result"
    }
   ],
   "source": [
    "# function to load the npz files\n",
    "\n",
    "folder_path = 'data/processed/NPZ_files'\n",
    "files = [os.path.join(folder_path, f) for f in os.listdir(folder_path) if f.endswith('.npz')]\n",
    "\n",
    "data = []\n",
    "labels = []\n",
    "\n",
    "for file in files:\n",
    "    npz_data = np.load(file)\n",
    "    spectrogram = npz_data['spectrogram']\n",
    "    label = npz_data['annotation']\n",
    "    \n",
    "    data.append(spectrogram)\n",
    "    labels.append(label)\n",
    "\n",
    "data = np.array(data)\n",
    "labels = np.array(labels)\n",
    "\n",
    "data.shape\n"
   ]
  },
  {
   "cell_type": "markdown",
   "metadata": {},
   "source": [
    "Our data is only 3D, it doesnt have a channel dimension. CNN's require a 4D [shape](https://stackoverflow.com/questions/60157742/convolutional-neural-network-cnn-input-shape). We need to add a channel dimension to our data. As the spectrograms are grayscale, we will add a channel dimension of 1."
   ]
  },
  {
   "cell_type": "code",
   "execution_count": 28,
   "metadata": {},
   "outputs": [],
   "source": [
    "# Add a channel dimension to the data\n",
    "data = np.expand_dims(data, axis=-1)  # Shape becomes (480, 1025, 561, 1)"
   ]
  },
  {
   "cell_type": "code",
   "execution_count": 30,
   "metadata": {},
   "outputs": [],
   "source": [
    "# Normalize data\n",
    "data = data / np.max(data)\n",
    "\n",
    "# Encode labels\n",
    "label_encoder = LabelEncoder()\n",
    "encoded_labels = label_encoder.fit_transform(labels)\n",
    "categorical_labels = to_categorical(encoded_labels)\n",
    "\n",
    "\n",
    "X_train, X_test, y_train, y_test = train_test_split(data, categorical_labels, test_size=0.2, random_state=42)\n"
   ]
  },
  {
   "cell_type": "code",
   "execution_count": 31,
   "metadata": {},
   "outputs": [
    {
     "name": "stderr",
     "output_type": "stream",
     "text": [
      "c:\\Users\\kolea\\anaconda3\\Lib\\site-packages\\keras\\src\\layers\\convolutional\\base_conv.py:107: UserWarning: Do not pass an `input_shape`/`input_dim` argument to a layer. When using Sequential models, prefer using an `Input(shape)` object as the first layer in the model instead.\n",
      "  super().__init__(activity_regularizer=activity_regularizer, **kwargs)\n"
     ]
    }
   ],
   "source": [
    "# Assuming data shape: (samples, height, width, channels)\n",
    "input_shape = X_train.shape[1:]\n",
    "\n",
    "model = Sequential([\n",
    "    Conv2D(32, (3, 3), activation='relu', input_shape=input_shape),\n",
    "    BatchNormalization(),\n",
    "    MaxPooling2D((2, 2)),\n",
    "    Dropout(0.25),\n",
    "    \n",
    "    Conv2D(64, (3, 3), activation='relu'),\n",
    "    BatchNormalization(),\n",
    "    MaxPooling2D((2, 2)),\n",
    "    Dropout(0.25),\n",
    "    \n",
    "    Flatten(),\n",
    "    Dense(128, activation='relu'),\n",
    "    Dropout(0.5),\n",
    "    Dense(categorical_labels.shape[1], activation='softmax')  # Output layer\n",
    "])\n",
    "\n",
    "model.compile(optimizer=Adam(learning_rate=0.001),\n",
    "              loss='categorical_crossentropy',\n",
    "              metrics=['accuracy'])"
   ]
  },
  {
   "cell_type": "code",
   "execution_count": null,
   "metadata": {},
   "outputs": [],
   "source": [
    "history = model.fit(X_train, y_train,\n",
    "                    validation_split=0.2,\n",
    "                    epochs=20,\n",
    "                    batch_size=32,\n",
    "                    verbose=1)"
   ]
  },
  {
   "cell_type": "markdown",
   "metadata": {},
   "source": [
    "https://stackoverflow.com/questions/60157742/convolutional-neural-network-cnn-input-shape"
   ]
  }
 ],
 "metadata": {
  "kernelspec": {
   "display_name": "base",
   "language": "python",
   "name": "python3"
  },
  "language_info": {
   "codemirror_mode": {
    "name": "ipython",
    "version": 3
   },
   "file_extension": ".py",
   "mimetype": "text/x-python",
   "name": "python",
   "nbconvert_exporter": "python",
   "pygments_lexer": "ipython3",
   "version": "3.11.5"
  }
 },
 "nbformat": 4,
 "nbformat_minor": 2
}
